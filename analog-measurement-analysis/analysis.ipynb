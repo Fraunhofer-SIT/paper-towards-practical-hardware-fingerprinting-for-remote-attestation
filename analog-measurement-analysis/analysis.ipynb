{
 "cells": [
  {
   "cell_type": "raw",
   "id": "ca9f1557-057b-4b3d-a12f-41de705de955",
   "metadata": {},
   "source": [
    "PDX-License-Identifier: BSD-3-Clause\n",
    "\n",
    "***************************************************************************\n",
    "Copyright 2024, Fraunhofer Institute for Secure Information Technology SIT.\n",
    "All rights reserved.\n",
    "***************************************************************************\n",
    "\n",
    "@file analysis.ipynb\n",
    "@author Florian Fenzl (florian.fenzl@sit.fraunhofer.de)\n",
    "@brief\n",
    "@version 0.1\n",
    "@date 2024-06-10\n",
    "\n",
    "@copyright Copyright 2024, Fraunhofer Institute for Secure Information Technology SIT. All rights reserved.\n",
    "\n",
    "@license BSD 3-Clause \"New\" or \"Revised\" License (SPDX-License-Identifier: BSD-3-Clause)."
   ]
  },
  {
   "cell_type": "markdown",
   "id": "e80e604b-e4e7-4a3a-83a8-284133c76d68",
   "metadata": {},
   "source": [
    "# Impact of humidity and temperature on sensor values"
   ]
  },
  {
   "cell_type": "markdown",
   "id": "c9c571c8-e4f3-4c91-8cc3-4b10b118500c",
   "metadata": {},
   "source": [
    "## Setup and config"
   ]
  },
  {
   "cell_type": "code",
   "execution_count": null,
   "id": "7d286457-ec9d-4479-9935-1452545bb981",
   "metadata": {},
   "outputs": [],
   "source": [
    "import sqlite3\n",
    "import pandas as pd\n",
    "import matplotlib.pyplot as plt\n",
    "from matplotlib.pyplot import cm\n",
    "import matplotlib.dates as mdates\n",
    "import seaborn as sns\n",
    "import numpy as np\n",
    "import time\n",
    "import math\n",
    "from datetime import datetime\n",
    "\n",
    "plt.rcParams['figure.figsize'] = [14, 4]\n",
    "\n",
    "#Load SQL file\n",
    "DATABASE_00 = 'records_00'\n",
    "DATABASE_01 = 'records_01'\n",
    "sql_connection = sqlite3.connect(f'{DATABASE_01}.db')\n",
    "\n",
    "# Measurement groups that are available\n",
    "GROUPS = ['Capacitive load', 'Digital load', 'Resistive load']\n",
    "# Measurement group that is to be further analysed in the first sections of the notebook\n",
    "GROUP = GROUPS[0]\n",
    "\n",
    "# Threshold in z-score heuristic used for eliminating outlier values in temperature and humidity\n",
    "ZSCORE_THRESHOLD = 10\n",
    "\n",
    "# Sample that is further analysed in the first sections of the notebook\n",
    "SAMPLE = 'sample_29'\n",
    "\n",
    "# Should regression curves for many of the analysis steps be plotted (might take some seconds per curve)\n",
    "PLOTREG = False\n",
    "# Order of the regression curve (works only if PLOTREG is True)\n",
    "REGRESSION_ORDER = 2"
   ]
  },
  {
   "cell_type": "code",
   "execution_count": null,
   "id": "0be080c1-8ff8-4af9-9206-44493c576a3d",
   "metadata": {},
   "outputs": [],
   "source": [
    "def datestring_to_timestamp(datestr):\n",
    "    return time.mktime(datetime.strptime(datestr, '%Y-%m-%d %H:%M:%S.%f').timetuple())\n",
    "\n",
    "def normalized_mean(df, col, interval):\n",
    "    md=df[col].groupby(df['date'].dt.to_period(interval)).mean()\n",
    "    md.index = md.index.map(lambda x: time.mktime(x.to_timestamp().timetuple()))\n",
    "    return (md-md.mean())/md.std()\n",
    "\n",
    "def display_ts_as_date(axis):\n",
    "    xticks = axis.get_xticks()\n",
    "    xticks_dates = [datetime.fromtimestamp(x).strftime('%Y-%m-%d %H:%M:%S') for x in xticks]\n",
    "    axis.set_xticklabels(xticks_dates)"
   ]
  },
  {
   "cell_type": "markdown",
   "id": "2d4a54d0-4c28-4d36-8f29-360b340855d2",
   "metadata": {},
   "source": [
    "## Load complete Dataset"
   ]
  },
  {
   "cell_type": "code",
   "execution_count": null,
   "id": "e3998c07-2e8a-41a4-8005-b478fa4397ae",
   "metadata": {
    "scrolled": true
   },
   "outputs": [],
   "source": [
    "#Initial loading of dataset\n",
    "df_measure_base = pd.read_sql_query('SELECT * FROM Measurements INNER JOIN Fingerprints on Fingerprints.id = Measurements.fingerprint_id INNER JOIN Records on Records.date = Fingerprints.record_date', sql_connection)\n",
    "df_measure_base"
   ]
  },
  {
   "cell_type": "code",
   "execution_count": null,
   "id": "667304ae-c1ea-49b5-9cd7-c083e29f22d3",
   "metadata": {},
   "outputs": [],
   "source": [
    "sql_connection.close()"
   ]
  },
  {
   "cell_type": "code",
   "execution_count": null,
   "id": "9c90cf16-0a58-4d3c-a5f4-8fdf09bdf9c9",
   "metadata": {},
   "outputs": [],
   "source": [
    "def prepare_dataframe(df):\n",
    "    df_ret = df.copy()\n",
    "    df_ret = df_ret.drop(['id', 'delta_t', 'record_date'], axis=1)\n",
    "    df_ret['date_ts'] = df_ret['date'].map(datestring_to_timestamp)\n",
    "    df_ret['date'] = df_ret['date_ts'].map(datetime.fromtimestamp)\n",
    "    df_ret['temp_z'] = (df_ret['temperature'] - df_ret['temperature'].mean())/df_ret['temperature'].std(ddof=0)\n",
    "    df_ret['humid_z'] = (df_ret['humidity'] - df_ret['humidity'].mean())/df_ret['humidity'].std(ddof=0)\n",
    "    df_ret['date_diff'] = df_ret['date'].diff().map(lambda x: x.total_seconds())\n",
    "    return df_ret\n",
    "\n",
    "df_measure_ungrouped = prepare_dataframe(df_measure_base)\n",
    "df_measure = df_measure_ungrouped.groupby(['component_name']).get_group(GROUP).reset_index(drop=True)\n",
    "\n",
    "df_measure"
   ]
  },
  {
   "cell_type": "code",
   "execution_count": null,
   "id": "6890133d-95d5-4e27-abeb-3fa66952daff",
   "metadata": {},
   "outputs": [],
   "source": [
    "print('Highest temperature outlier:', df_measure[df_measure['temp_z'] == df_measure['temp_z'].max()]['temperature'].tolist()[0], ' zscore: ', df_measure['temp_z'].max())\n",
    "print('Temperature above Threshold:')\n",
    "print(df_measure[df_measure['temp_z'] > 10]['temperature'])"
   ]
  },
  {
   "cell_type": "code",
   "execution_count": null,
   "id": "ee0176c5-2e0b-4e3f-8d86-04faf15ee6fa",
   "metadata": {},
   "outputs": [],
   "source": [
    "print('Highest humidity outlier: ', df_measure[df_measure['humid_z'] == df_measure['humid_z'].max()]['humidity'].tolist()[0], ' zscore: ', df_measure['humid_z'].max())\n",
    "print('Humidity above Threshold:')\n",
    "print(df_measure[df_measure['humid_z'] > 10]['humidity'])"
   ]
  },
  {
   "cell_type": "code",
   "execution_count": null,
   "id": "efe6c420-6e33-480c-a4cb-cd5f7c491c10",
   "metadata": {},
   "outputs": [],
   "source": [
    "lst = list(df_measure[[f'sample_{x:02}' for x in range(30)]].iloc[75000])\n",
    "ax = plt.plot(lst)\n",
    "plt.show()"
   ]
  },
  {
   "cell_type": "markdown",
   "id": "f7530bf3-0094-4090-be02-ed16ab011563",
   "metadata": {},
   "source": [
    "## Initial plot of sample"
   ]
  },
  {
   "cell_type": "code",
   "execution_count": null,
   "id": "185dcd31-2b59-4c7e-9bd2-47f88d4019f5",
   "metadata": {},
   "outputs": [],
   "source": [
    "ax = df_measure.reset_index().plot.scatter(x='date', y=SAMPLE,s=3, alpha=0.2)\n",
    "plt.show()"
   ]
  },
  {
   "cell_type": "code",
   "execution_count": null,
   "id": "69c022cf-3e6c-4b5d-99fa-420dd7b87f7f",
   "metadata": {},
   "outputs": [],
   "source": [
    "\n",
    "start, end = ('2022-04-01 00:00:00.000000', '2022-04-01 11:59:59.999999')\n",
    "day_interval = df_measure.copy()[\n",
    "    (df_measure['date_ts'] > datestring_to_timestamp(start)) &\n",
    "     (df_measure['date_ts'] < datestring_to_timestamp(end))\n",
    "]\n",
    "\n",
    "s_start, s_end = (0, 3)\n",
    "\n",
    "sample_cols = [f'sample_{i:02}' for i in range(s_start, s_end)]\n",
    "samples = day_interval[sample_cols]\n",
    "day_interval[sample_cols] = (samples-samples.mean())/samples.std()\n",
    "\n",
    "color = iter(cm.rainbow(np.linspace(0, 1, s_end - s_start)))\n",
    "ax1 = day_interval.reset_index().plot.scatter(x='date', y=sample_cols[0],s=10, alpha=1, label=sample_cols[0])\n",
    "for sample in sample_cols[1:] :\n",
    "    day_interval.reset_index().plot.scatter(x='date', y=sample,s=10, alpha=1, ax=ax1, c=next(color).reshape(1,-1), label=sample)\n",
    "\n",
    "ax.legend(loc=1)\n",
    "plt.show()\n",
    "\n"
   ]
  },
  {
   "cell_type": "markdown",
   "id": "bd7a3654-60ff-4516-aa09-028835a9cc47",
   "metadata": {},
   "source": [
    "### General data observations\n",
    "\n",
    "- 30 different samples (`sample_00` - `sample_29`)\n",
    "- Recorded from `2021-10-05 08:41:07.157388` to `2022-09-09 17:39:00.871733`\n",
    "    - Consistent data recording starts at `2021-10-29 17:20:53.910281`\n",
    "- Obvious data anomalies\n",
    "    - Large increase in values after approx. `2022-01-07 08:58:09.508249`\n",
    "    - Normalize after approx. `2022-01-21 16:00:22.510406`\n",
    "    - Larger spread after approx. `2022-05-08 15:42:55.876608` until end of measurement\n",
    "    - An additional change in values in the middle between `2021-11-12 13:53:21.867046` and `2022-01-07 08:58:09.508249` can also be observed in many samples"
   ]
  },
  {
   "cell_type": "code",
   "execution_count": null,
   "id": "648fedf9-a084-4502-b8dd-91820269ea64",
   "metadata": {},
   "outputs": [],
   "source": [
    "# Plot time ranges\n",
    "ax = df_measure.reset_index().plot.scatter(x='date_ts', y=SAMPLE,s=3, alpha=0.2)\n",
    "\n",
    "INTERVALS = [\n",
    "    ('2021-10-05 08:42:00.000000', '2021-10-29 17:21:00.000000', 'red'),\n",
    "    ('2021-10-29 17:21:00.000000', '2021-11-12 14:00:00.000000', 'blue'),\n",
    "    ('2021-11-12 14:00:00.000000', '2021-12-10 14:00:00.000000', 'orange'),\n",
    "    ('2021-12-10 14:00:00.000000', '2022-01-07 09:00:00.000000', 'cyan'),\n",
    "    ('2022-01-07 09:00:00.000000', '2022-01-21 16:00:30.000000', 'yellow'),\n",
    "    ('2022-01-21 17:00:30.000000', '2022-05-08 15:15:00.000000', 'violet'),\n",
    "    ('2022-05-08 15:15:00.000000', '2022-09-09 17:40:00.000000', 'green')]\n",
    "\n",
    "def show_intervals(ax, show_intervals=range(0,len(INTERVALS))):\n",
    "    # Initial missing measurements\n",
    "    for i in show_intervals:\n",
    "        interval = INTERVALS[i]\n",
    "        ax.axvspan(\n",
    "            datestring_to_timestamp(interval[0]),\n",
    "            datestring_to_timestamp(interval[1]),\n",
    "            color=interval[2], alpha=0.2)\n",
    "\n",
    "#ax.set_ylabel(f\"{GROUP} {SAMPLE}\")\n",
    "show_intervals(ax)\n",
    "display_ts_as_date(ax)\n",
    "plt.xlabel(\"date\")\n",
    "plt.savefig(f\"overview_{SAMPLE}_{GROUP}_{DATABASE}.svg\", dpi=300, bbox_inches='tight', pad_inches=.02)\n",
    "plt.show()"
   ]
  },
  {
   "cell_type": "code",
   "execution_count": null,
   "id": "0ecb72a5-adc2-402a-a5e6-452fb66dbb43",
   "metadata": {},
   "outputs": [],
   "source": [
    "for interval in INTERVALS:\n",
    "    start = datetime.strptime(interval[0], '%Y-%m-%d %H:%M:%S.%f')\n",
    "    end = datetime.strptime(interval[1], '%Y-%m-%d %H:%M:%S.%f')\n",
    "    print(start, end, end-start)"
   ]
  },
  {
   "cell_type": "markdown",
   "id": "fde94241-6730-4237-aff3-53d5eeb63146",
   "metadata": {},
   "source": [
    "## Evaluation of environmental data"
   ]
  },
  {
   "cell_type": "code",
   "execution_count": null,
   "id": "4e16d383-01fa-45d3-89ac-38503bca2fe8",
   "metadata": {},
   "outputs": [],
   "source": [
    "ax1 = df_measure.reset_index().plot.scatter(x='date_ts', y=SAMPLE,s=3, alpha=0.2)\n",
    "\n",
    "# Add environment information\n",
    "ax2 = ax1.twinx()\n",
    "ax2.spines['right'].set_position(('axes', 1.0))\n",
    "\n",
    "#idx = np.array(environment.index.tolist(), dtype='float')\n",
    "\n",
    "# filtered temperature by zscore to remove outliers\n",
    "temp_filtered = df_measure[df_measure['temp_z'] < 10]\n",
    "temp_filtered.plot.scatter(x='date_ts', ax=ax2, y='temperature',s=1, alpha=0.2, c='#922b21')\n",
    "if PLOTREG:\n",
    "    sns.regplot(x=temp_filtered['date_ts'], y=temp_filtered['temperature'], ax=ax2, scatter_kws={'s':1, 'color': '#922b21'}, line_kws={\"color\": \"#a93226\"}, label='Temperature', order=REGRESSION_ORDER)\n",
    "\n",
    "# filtered humidity by zscore to remove outliers\n",
    "humid_filtered = df_measure[df_measure['humid_z'] < 10]\n",
    "humid_filtered.plot.scatter(x='date_ts', ax=ax2, y='humidity',s=1, alpha=0.2, c='#b9770e')\n",
    "if PLOTREG:\n",
    "    sns.regplot(x=humid_filtered['date_ts'], y=humid_filtered['humidity'], ax=ax2, scatter_kws={'s':1, 'color': '#b9770e'}, line_kws={\"color\": \"#d4ac0d\"}, label='Humidity', order=REGRESSION_ORDER)\n",
    "\n",
    "display_ts_as_date(ax2)\n",
    "\n",
    "ax2.legend(loc=0)\n",
    "plt.show()"
   ]
  },
  {
   "cell_type": "markdown",
   "id": "15345bd9-3603-4914-a026-4568f7ea0abb",
   "metadata": {},
   "source": [
    "### Environment data observations\n",
    "\n",
    "- No obvious measurement anomalies in temp and humidity\n",
    "- Humidity shows a downwards trend\n",
    "- Temperature shows an upwards trend"
   ]
  },
  {
   "cell_type": "markdown",
   "id": "377e1da0-a131-45c0-afd5-705e68f479bd",
   "metadata": {},
   "source": [
    "## Evaluation of specific interval"
   ]
  },
  {
   "cell_type": "code",
   "execution_count": null,
   "id": "04b7f111-512b-4a80-9497-a49474ab42a4",
   "metadata": {},
   "outputs": [],
   "source": [
    "#INTERVAL = ('2022-01-21 18:00:00.000000', '2022-05-07 00:00:00.000000') # Interval between yellow and green\n",
    "INTERVAL = ('2022-01-21 17:00:30.000000', '2022-05-08 15:15:00.000000') # Inverval marked in violet\n",
    "#INTERVAL = ('2021-10-29 17:20:53.910281', '2022-09-09 17:39:00.871733') # All data without initial gap\n",
    "\n",
    "MEAN_INTERVAL = 'D'\n",
    "\n",
    "df_sample = df_measure[\n",
    "    (df_measure['date_ts'] > datestring_to_timestamp(INTERVAL[0])) &\n",
    "     (df_measure['date_ts'] < datestring_to_timestamp(INTERVAL[1]))\n",
    "]\n",
    "\n",
    "temp_filtered = df_sample[df_sample['temp_z'] < 10]\n",
    "humid_filtered = df_sample[df_sample['humid_z'] < 10]\n",
    "\n",
    "df_sample"
   ]
  },
  {
   "cell_type": "code",
   "execution_count": null,
   "id": "535a60d9-1d87-466d-b82e-b484dd9f8843",
   "metadata": {},
   "outputs": [],
   "source": [
    "ax1 = df_sample.reset_index().plot.scatter(x='date_ts', y=SAMPLE,s=3, alpha=0.2)\n",
    "\n",
    "# Add environment information\n",
    "ax2 = ax1.twinx()\n",
    "ax2.spines['right'].set_position(('axes', 1.0))\n",
    "\n",
    "if PLOTREG:\n",
    "    sns.regplot(x=temp_filtered['date_ts'], y=temp_filtered['temperature'], ax=ax2, scatter_kws={'s':1, 'color': '#922b21'}, line_kws={\"color\": \"#a93226\"}, label='Temperature', order=REGRESSION_ORDER)\n",
    "    sns.regplot(x=humid_filtered['date_ts'], y=humid_filtered['humidity'], ax=ax2, scatter_kws={'s':1, 'color': '#b9770e'}, line_kws={\"color\": \"#d4ac0d\"}, label='Humidity', order=REGRESSION_ORDER)\n",
    "\n",
    "xticks = ax2.get_xticks()\n",
    "xticks_dates = [datetime.fromtimestamp(x).strftime('%Y-%m-%d %H:%M:%S') for x in xticks]\n",
    "ax2.set_xticklabels(xticks_dates)\n",
    "\n",
    "ax2.legend(loc=0)\n",
    "plt.show()\n"
   ]
  },
  {
   "cell_type": "code",
   "execution_count": null,
   "id": "9b2bb6ca-adbd-43ba-829e-d572d47443e4",
   "metadata": {},
   "outputs": [],
   "source": [
    "ax = df_sample.reset_index().plot.scatter(x='date_ts', y='date_diff',s=3, alpha=1)\n",
    "show_intervals(ax, range(5,6))\n",
    "plt.show()"
   ]
  },
  {
   "cell_type": "code",
   "execution_count": null,
   "id": "e0f998af-8435-4383-81c1-499c203920ca",
   "metadata": {},
   "outputs": [],
   "source": [
    "ax1 = df_sample.reset_index().plot.scatter(x='date', y=SAMPLE,s=3, alpha=0.2)\n",
    "\n",
    "ax2 = ax1.twinx()\n",
    "ax2.spines['right'].set_position(('axes', 1.0))\n",
    "\n",
    "df_sample[SAMPLE].groupby(df_sample['date'].dt.to_period(MEAN_INTERVAL)).max().plot(kind='line' ,ax=ax2, label='Daily Max')\n",
    "df_sample[SAMPLE].groupby(df_sample['date'].dt.to_period(MEAN_INTERVAL)).min().plot(kind='line' ,ax=ax2, label='Daily Min')\n",
    "df_sample[SAMPLE].groupby(df_sample['date'].dt.to_period(MEAN_INTERVAL)).mean().plot(kind='line' ,ax=ax2, label='Daily Mean')\n",
    "\n",
    "ax2.legend(loc=0)\n",
    "plt.show()"
   ]
  },
  {
   "cell_type": "markdown",
   "id": "1c1b2b29-7841-4404-8db6-f4364c00a6f4",
   "metadata": {},
   "source": [
    "### Visualisation of Daily Max to Temperature"
   ]
  },
  {
   "cell_type": "code",
   "execution_count": null,
   "id": "16202f78-25bf-4ef4-a017-6ada9cc49f75",
   "metadata": {},
   "outputs": [],
   "source": [
    "mean_temp=temp_filtered['temperature'].groupby(temp_filtered['date'].dt.to_period(MEAN_INTERVAL)).mean()\n",
    "#mean_temp.index = mean_temp.index.map(lambda x: time.mktime(x.to_timestamp().timetuple()))\n",
    "ax1 = mean_temp.plot(kind='line', c='#922b21', label='Temperature')\n",
    "ax1.set_ylabel(\"Temperature\")\n",
    "ax2 = ax1.twinx()\n",
    "mean_humid=humid_filtered['humidity'].groupby(humid_filtered['date'].dt.to_period(MEAN_INTERVAL)).mean()\n",
    "#mean_humid.index = mean_humid.index.map(lambda x: time.mktime(x.to_timestamp().timetuple()))\n",
    "ax2.set_ylabel(\"Humidity\")\n",
    "mean_humid.plot(kind='line', ax=ax2, c='#b9770e', label='Humidity')\n",
    "\n",
    "lines, labels = ax1.get_legend_handles_labels()\n",
    "lines2, labels2 = ax2.get_legend_handles_labels()\n",
    "ax2.legend(lines + lines2, labels + labels2, loc=0)\n",
    "\n",
    "plt.savefig(f\"temp_humid_overview.svg\", dpi=300, bbox_inches='tight', pad_inches=.02)\n",
    "plt.show()"
   ]
  },
  {
   "cell_type": "code",
   "execution_count": null,
   "id": "4e02a333-2415-4bdf-b0ef-81864ff2d859",
   "metadata": {},
   "outputs": [],
   "source": [
    "print(\"Temperature (Min / Max)\", temp_filtered['temperature'].min(), temp_filtered['temperature'].max())\n",
    "print(\"Humidity (Min / Max)\", temp_filtered['humidity'].min(), temp_filtered['humidity'].max())"
   ]
  },
  {
   "cell_type": "code",
   "execution_count": null,
   "id": "16cc4af4-c915-4ef5-b61a-84acc9fa2bca",
   "metadata": {},
   "outputs": [],
   "source": [
    "mean_data=df_sample[SAMPLE].groupby(df_sample['date'].dt.to_period(MEAN_INTERVAL)).mean()\n",
    "mean_data.index = mean_data.index.map(lambda x: time.mktime(x.to_timestamp().timetuple()))\n",
    "mean_normalized = (mean_data-mean_data.mean())/mean_data.std()\n",
    "\n",
    "ax1 = mean_normalized.plot(kind='line', label=f\"{SAMPLE} ({GROUP})\")\n",
    "sns.regplot(x=mean_normalized.index, y=mean_normalized, ax=ax1, scatter=False, order=REGRESSION_ORDER, line_kws={\"color\": \"tab:blue\"})\n",
    "\n",
    "mean_temp=temp_filtered['temperature'].groupby(temp_filtered['date'].dt.to_period(MEAN_INTERVAL)).mean()\n",
    "mean_temp.index = mean_temp.index.map(lambda x: time.mktime(x.to_timestamp().timetuple()))\n",
    "mean_temp_normalized = (mean_temp-mean_temp.mean())/mean_temp.std()\n",
    "mean_temp_normalized.plot(kind='line', ax=ax1, c='#922b21', label='Temperature')\n",
    "sns.regplot(x=mean_temp_normalized.index, y=mean_temp_normalized, ax=ax1, scatter=False, line_kws={\"color\": \"#a93226\"}, order=REGRESSION_ORDER)\n",
    "\n",
    "mean_humid=humid_filtered['humidity'].groupby(humid_filtered['date'].dt.to_period(MEAN_INTERVAL)).mean()\n",
    "mean_humid.index = mean_humid.index.map(lambda x: time.mktime(x.to_timestamp().timetuple()))\n",
    "mean_humid_normalized = (mean_humid-mean_humid.mean())/mean_humid.std()\n",
    "mean_humid_normalized.plot(kind='line', ax=ax1, c='#b9770e', label='Humidity')\n",
    "sns.regplot(x=mean_humid_normalized.index, y=mean_humid_normalized, ax=ax1, scatter=False, line_kws={\"color\": \"#d4ac0d\"}, order=REGRESSION_ORDER)\n",
    "\n",
    "ax1.set_ylabel(\"Normalized Value\")\n",
    "ax1.legend(loc=1)\n",
    "show_intervals(ax1, range(5,6))\n",
    "display_ts_as_date(ax1)\n",
    "\n",
    "#plt.title('Daily mean sample value compared to temperature and humidity')\n",
    "plt.savefig(f\"mean_temp_humid_{SAMPLE}_{GROUP}_{DATABASE}.svg\", dpi=300, bbox_inches='tight', pad_inches=.02)\n",
    "plt.show()"
   ]
  },
  {
   "cell_type": "markdown",
   "id": "52068962-f68e-4916-a7d9-5c234372c530",
   "metadata": {},
   "source": [
    "Correlation coefficients whose magnitude are between 0.7 and 0.9 indicate variables which can be considered highly correlated. Correlation coefficients whose magnitude are between 0.5 and 0.7 indicate variables which can be considered moderately correlated."
   ]
  },
  {
   "cell_type": "code",
   "execution_count": null,
   "id": "20c187f1-9bf3-48a3-ae2c-34b089cc5df2",
   "metadata": {},
   "outputs": [],
   "source": [
    "# Correlation between mean sensor and mean temperature\n",
    "correlations = {c: mean_normalized.corr(mean_temp_normalized, c) for c in ('pearson', 'kendall', 'spearman')}\n",
    "correlations"
   ]
  },
  {
   "cell_type": "code",
   "execution_count": null,
   "id": "a7561526-37cf-46db-82ef-86f2b563126f",
   "metadata": {},
   "outputs": [],
   "source": [
    "ax1 = df_sample.reset_index().plot.scatter(x='date_ts', y=SAMPLE,s=3, alpha=.1, label=f\"{SAMPLE}\")\n",
    "ax2 = ax1.twinx()\n",
    "ax2.spines['right'].set_position(('axes', 1.0))\n",
    "\n",
    "mean_normalized.plot(kind='line', label=f\"{SAMPLE} Mean\", ax=ax2)\n",
    "sns.regplot(x=mean_normalized.index, y=mean_normalized, ax=ax2, scatter=False, order=REGRESSION_ORDER, line_kws={\"color\": \"tab:blue\"})\n",
    "\n",
    "mean_temp_normalized_inv = mean_temp_normalized.copy() * -1\n",
    "mean_temp_normalized_inv.plot(kind='line', ax=ax2, c='#922b21', label='Temperature')\n",
    "sns.regplot(x=mean_temp_normalized_inv.index, y=mean_temp_normalized_inv, ax=ax2, scatter=False, line_kws={\"color\": \"#a93226\"}, order=REGRESSION_ORDER)\n",
    "#show_intervals(ax1, range(5,6))\n",
    "\n",
    "#ax1.legend(loc=1)\n",
    "#ax2.legend(loc=1)\n",
    "\n",
    "lines, labels = ax1.get_legend_handles_labels()\n",
    "lines2, labels2 = ax2.get_legend_handles_labels()\n",
    "ax2.legend(lines + lines2, labels + labels2, loc=0)\n",
    "\n",
    "ax2.set_ylabel(\"Normalized Value\")\n",
    "display_ts_as_date(ax1)\n",
    "ax1.set_xlabel(\"date\")\n",
    "\n",
    "#plt.title(f'Inverse normalized mean daily temperature compared to daily mean sensor value (Spearman Correlation {correlations[\"spearman\"]:.3})')\n",
    "plt.savefig(f\"mean_inv_temp_{SAMPLE}_{GROUP}_{DATABASE}.png\", dpi=300, bbox_inches='tight', pad_inches=.02)\n",
    "plt.show()"
   ]
  },
  {
   "cell_type": "code",
   "execution_count": null,
   "id": "809034a2-204f-43fd-a79f-da88495daf23",
   "metadata": {},
   "outputs": [],
   "source": [
    "# Correlation between mean sensor and mean humidity\n",
    "correlations = {c: mean_normalized.corr(mean_humid_normalized, c) for c in ('pearson', 'kendall', 'spearman')}\n",
    "correlations"
   ]
  },
  {
   "cell_type": "code",
   "execution_count": null,
   "id": "0c06dffd-29fc-4d47-91ec-b77bc2072c50",
   "metadata": {},
   "outputs": [],
   "source": [
    "ax1 = mean_normalized.plot(kind='line', label=SAMPLE)\n",
    "sns.regplot(x=mean_normalized.index, y=mean_normalized, ax=ax1, scatter=False, order=REGRESSION_ORDER, line_kws={\"color\": \"tab:blue\"})\n",
    "\n",
    "mean_humid_normalized.plot(kind='line', ax=ax1, c='#b9770e', label='Humidity')\n",
    "sns.regplot(x=mean_humid_normalized.index, y=mean_humid_normalized, ax=ax1, scatter=False, line_kws={\"color\": \"#d4ac0d\"}, order=REGRESSION_ORDER)\n",
    "\n",
    "show_intervals(ax1, range(5,6))\n",
    "ax1.legend(loc=1)\n",
    "\n",
    "display_ts_as_date(ax1)\n",
    "\n",
    "#plt.title(f'Normalized mean daily humidity compared to daily mean sensor value (Pearson Correlation {correlations[\"spearman\"]:.3})')\n",
    "plt.savefig(f\"mean_humid_{SAMPLE}_{GROUP}_{DATABASE}.png\", dpi=300, bbox_inches='tight', pad_inches=.02)\n",
    "plt.show()"
   ]
  },
  {
   "cell_type": "markdown",
   "id": "e2641199-97d9-4068-ba9e-605b45702dbd",
   "metadata": {},
   "source": [
    "## Evaluation of Value changes between samples"
   ]
  },
  {
   "cell_type": "code",
   "execution_count": null,
   "id": "9d25eccf-0a3c-4444-9867-c590f02e6c63",
   "metadata": {},
   "outputs": [],
   "source": [
    "SAMPLE_A = 'sample_00'\n",
    "SAMPLE_B = 'sample_29'\n",
    "\n",
    "df_samples_w_diff = df_sample.copy()\n",
    "df_samples_w_diff['diff'] = df_samples_w_diff[SAMPLE_B] - df_samples_w_diff[SAMPLE_A]\n",
    "\n",
    "ax1 = df_samples_w_diff.plot.scatter(x='date_ts', y='diff',s=3, alpha=.1, label='Sample Difference')\n",
    "\n",
    "ax2 = ax1.twinx()\n",
    "ax2.spines['right'].set_position(('axes', 1.0))\n",
    "\n",
    "diff_mean = df_samples_w_diff['diff'].groupby(df_samples_w_diff['date'].dt.to_period(MEAN_INTERVAL)).mean()\n",
    "diff_mean.index = diff_mean.index.map(lambda x: time.mktime(x.to_timestamp().timetuple()))\n",
    "#diff_mean.plot(kind='line' ,ax=ax1, label='Mean Daily Diff', c='#2de2f1')\n",
    "\n",
    "diff_mean_norm = (diff_mean-diff_mean.mean())/diff_mean.std()\n",
    "diff_mean_norm.plot(kind='line' ,ax=ax2, label='Normalized Difference', c='#42cb1f')\n",
    "\n",
    "mean_temp_normalized.plot(kind='line', ax=ax2, c='#922b21', label='Temperature')\n",
    "mean_humid_normalized.plot(kind='line', ax=ax2, c='#b9770e', label='Humidity')\n",
    "\n",
    "lines, labels = ax1.get_legend_handles_labels()\n",
    "lines2, labels2 = ax2.get_legend_handles_labels()\n",
    "ax2.legend(lines + lines2, labels + labels2, loc=1)\n",
    "ax1.legend().remove()\n",
    "#ax2.legend(loc=1)\n",
    "ax1.set_ylabel(\"Sample Difference\")\n",
    "ax2.set_ylabel(\"Normalized Value\")\n",
    "\n",
    "show_intervals(ax1, range(5,6))\n",
    "display_ts_as_date(ax1)\n",
    "ax1.set_xlabel(\"date\")\n",
    "\n",
    "#plt.title(f'Difference between {SAMPLE_A} and {SAMPLE_B} compared to temperature und humidity daily mean values')\n",
    "plt.savefig(f\"diff_overview_{SAMPLE_A}_{SAMPLE_B}_{GROUP}_{DATABASE}.svg\", dpi=300, bbox_inches='tight', pad_inches=.02)\n",
    "plt.show()"
   ]
  },
  {
   "cell_type": "code",
   "execution_count": null,
   "id": "c8dd7cdf-08f9-4b33-978e-3ff5537f0ab9",
   "metadata": {},
   "outputs": [],
   "source": [
    "correlations = {c: diff_mean_norm.corr(mean_temp_normalized, c) for c in ('pearson', 'kendall', 'spearman')}\n",
    "correlations"
   ]
  },
  {
   "cell_type": "code",
   "execution_count": null,
   "id": "8406acfd-4a58-46ad-a42c-a9a508032b74",
   "metadata": {},
   "outputs": [],
   "source": [
    "correlations = {c: diff_mean_norm.corr(mean_humid_normalized, c) for c in ('pearson', 'kendall', 'spearman')}\n",
    "correlations"
   ]
  },
  {
   "cell_type": "code",
   "execution_count": null,
   "id": "5785dcf6-fbb2-42db-9c64-0a6c558a5fec",
   "metadata": {},
   "outputs": [],
   "source": [
    "ax1 = diff_mean_norm.plot(kind='line', label='Mean Daily Diff Normalized', c='#42cb1f')\n",
    "mean_temp_normalized.plot(kind='line', ax=ax1, c='#922b21', label='Mean Daily Temperature')\n",
    "ax1.legend(loc=2)\n",
    "\n",
    "display_ts_as_date(ax1)\n",
    "\n",
    "plt.title(f'Difference between {SAMPLE_A} and {SAMPLE_B} compared to inverse temperature daily mean value (Spearman Correleation: {correlations[\"spearman\"]:.5}')\n",
    "plt.savefig(f\"diff_mean_inv_temp_{SAMPLE_A}_{SAMPLE_B}_{GROUP}_{DATABASE}.png\", dpi=300, bbox_inches='tight', pad_inches=.02)\n",
    "plt.show()"
   ]
  },
  {
   "cell_type": "markdown",
   "id": "fddf466d-401e-4a3a-8ee4-2f0b8ab0b32b",
   "metadata": {},
   "source": [
    "# Create overview plots"
   ]
  },
  {
   "cell_type": "code",
   "execution_count": null,
   "id": "ceb893ef-f870-497e-acb7-48be2af73cce",
   "metadata": {},
   "outputs": [],
   "source": [
    "GROUPS = ['Capacitive load', 'Digital load', 'Resistive load']\n",
    "\n",
    "#INTERVAL = ('2021-10-29 17:20:53.910281', '2022-09-09 17:39:00.871733') # All data without initial gap\n",
    "#INTERVAL = ('2022-05-08 16:00:00.000000', '2022-09-10 00:00:00.000000')\n",
    "INTERVAL = ('2022-01-21 17:00:30.000000', '2022-05-08 15:15:00.000000') # Inverval marked in violet\n",
    "MEAN_INTERVAL = 'D'\n",
    "#SAMPLE = 'sample_13'\n",
    "\n",
    "SHOW_SCATTER = True\n",
    "\n",
    "def get_sample_interval(df, interval):\n",
    "    date_column = df['date_ts'] if 'date_ts' in df else df.index\n",
    "    return df[\n",
    "    (date_column > datestring_to_timestamp(interval[0])) &\n",
    "     (date_column < datestring_to_timestamp(interval[1]))]\n",
    "\n",
    "df_capacitive = get_sample_interval(df_measure_ungrouped.groupby(['component_name']).get_group('Capacitive load').reset_index(drop=True), INTERVAL)\n",
    "df_capacitive_mean_sample = normalized_mean(df_capacitive, SAMPLE, MEAN_INTERVAL)\n",
    "\n",
    "df_digital = get_sample_interval(df_measure_ungrouped.groupby(['component_name']).get_group('Digital load').reset_index(drop=True), INTERVAL)\n",
    "df_digital_mean_sample = normalized_mean(df_digital, SAMPLE, MEAN_INTERVAL)\n",
    "\n",
    "df_resistive = get_sample_interval(df_measure_ungrouped.groupby(['component_name']).get_group('Resistive load').reset_index(drop=True), INTERVAL)\n",
    "df_resistive_mean_sample = normalized_mean(df_resistive, SAMPLE, MEAN_INTERVAL)\n",
    "\n",
    "# plot first pandas frame in subplot style\n",
    "#ax1 = df_capacitive_mean_sample.plot(kind='line', label='Capacitive Load Mean Daily')\n",
    "\n",
    "ax1 = plt.subplot(3, 1, 1)\n",
    "if SHOW_SCATTER: ax2 = ax1.twinx()\n",
    "plt.title(\"Capacitive Load/Temperature\")\n",
    "if SHOW_SCATTER: df_capacitive.reset_index().plot.scatter(x='date_ts', y=SAMPLE,s=3, alpha=0.02,ax=ax1)\n",
    "df_capacitive_mean_sample.plot(kind='line', label='Capacitive Load Mean Daily', c='tab:cyan',ax=ax2 if SHOW_SCATTER else ax1)\n",
    "mean_temp_normalized_inv.plot(kind='line', c='#922b21', label='Mean Daily Temperature')\n",
    "plt.legend(loc=1)\n",
    "show_intervals(ax1, range(5,6))\n",
    "display_ts_as_date(ax1)\n",
    "\n",
    "ax1 = plt.subplot(3, 1, 2)\n",
    "if SHOW_SCATTER: ax2 = ax1.twinx()\n",
    "plt.title(\"Digital Load/Temperature\")\n",
    "if SHOW_SCATTER: df_digital.reset_index().plot.scatter(x='date_ts', y=SAMPLE,s=3, alpha=0.02,ax=ax1)\n",
    "df_digital_mean_sample.plot(kind='line', label='Digital Load Mean Daily', c='tab:orange', ax=ax2 if SHOW_SCATTER else ax1)\n",
    "mean_temp_normalized_inv.plot(kind='line', c='#922b21', label='Mean Daily Temperature')\n",
    "plt.legend(loc=1)\n",
    "show_intervals(ax1, range(5,6))\n",
    "display_ts_as_date(ax1)\n",
    "\n",
    "ax1 = plt.subplot(3, 1, 3)\n",
    "if SHOW_SCATTER: ax2 = ax1.twinx()\n",
    "plt.title(\"Resistive Load/Temperature\")\n",
    "if SHOW_SCATTER: df_resistive.reset_index().plot.scatter(x='date_ts', y=SAMPLE,s=3, alpha=0.02,ax=ax1)\n",
    "df_resistive_mean_sample.plot(kind='line', label='Resistive Load Mean Daily', c='tab:green',ax=ax2 if SHOW_SCATTER else ax1)\n",
    "mean_temp_normalized_inv.plot(kind='line', c='#922b21', label='Mean Daily Temperature')\n",
    "plt.legend(loc=1)\n",
    "show_intervals(ax1, range(5,6))\n",
    "display_ts_as_date(ax1)\n",
    "\n",
    "\n",
    "plt.tight_layout()\n",
    "plt.savefig(f\"comparison_groups_{SAMPLE}_{DATABASE}.png\", dpi=300, bbox_inches='tight', pad_inches=.02)\n",
    "plt.show()"
   ]
  },
  {
   "cell_type": "code",
   "execution_count": null,
   "id": "e73a1ad5-bd42-4172-bb5e-2b0944a9bd1f",
   "metadata": {},
   "outputs": [],
   "source": [
    "def split_by_intervals(df):\n",
    "    df_intervals = []\n",
    "    for i in INTERVALS:\n",
    "        df_intervals.append(get_sample_interval(df,i))\n",
    "    return df_intervals\n",
    "\n",
    "#SAMPLE='sample_29'\n",
    "MEAN_INTERVAL = 'D'\n",
    "\n",
    "fig = plt.figure(constrained_layout=True, figsize=(15, 15))\n",
    "\n",
    "interval_df_list_cap = split_by_intervals(df_measure_ungrouped.groupby(['component_name']).get_group('Capacitive load').reset_index(drop=True))[1:]\n",
    "interval_df_list_dig = split_by_intervals(df_measure_ungrouped.groupby(['component_name']).get_group('Digital load').reset_index(drop=True))[1:]\n",
    "interval_df_list_res = split_by_intervals(df_measure_ungrouped.groupby(['component_name']).get_group('Resistive load').reset_index(drop=True))[1:]\n",
    "\n",
    "temp_df_list = split_by_intervals(mean_temp_normalized_inv)[1:]\n",
    "for i,l in enumerate(interval_df_list_cap):\n",
    "    ax1 = plt.subplot(len(temp_df_list), 1, i+1)\n",
    "    start = datetime.strptime(INTERVALS[i+1][0], '%Y-%m-%d %H:%M:%S.%f')\n",
    "    end = datetime.strptime(INTERVALS[i+1][1], '%Y-%m-%d %H:%M:%S.%f')\n",
    "    plt.title(f'{start} - {end} - Mean daily values - {end - start}')\n",
    "    ax2 = ax1.twinx()\n",
    "    normalized_mean(l, SAMPLE, MEAN_INTERVAL).plot(kind='line', label='Capacitive Load', c='tab:cyan',ax=ax2)\n",
    "    normalized_mean(interval_df_list_dig[i], SAMPLE, MEAN_INTERVAL).plot(kind='line', label='Digital Load', c='tab:orange',ax=ax2)\n",
    "    normalized_mean(interval_df_list_res[i], SAMPLE, MEAN_INTERVAL).plot(kind='line', label='Resistive Load', c='tab:green',ax=ax2)\n",
    "    (normalized_mean(l, 'temperature', MEAN_INTERVAL)*-1).plot(kind='line', label='Temperature (Inverted)', c='#922b21',ax=ax2)\n",
    "    #temp_df_list[i].plot(kind='line', c='#922b21', label='Mean Daily Temperature')\n",
    "    background = interval_df_list_res[i]\n",
    "    background.reset_index().plot.scatter(x='date_ts', y=SAMPLE,s=3, alpha=0.02,ax=ax1)\n",
    "    ax2.legend(loc=1)\n",
    "    show_intervals(ax1, range(i+1,i+2))\n",
    "    display_ts_as_date(ax2)\n",
    "\n",
    "#plt.subplots_adjust(left=0.11, bottom=0.07, right=0.95, top=0.95, wspace=0.41, hspace=0.44)\n",
    "plt.savefig(f\"comparison_groups_by_interval_{SAMPLE}_{DATABASE}.png\", dpi=300, bbox_inches='tight', pad_inches=.02)\n",
    "plt.show()"
   ]
  },
  {
   "cell_type": "markdown",
   "id": "51080b28-baea-4650-9245-d60cfd13c469",
   "metadata": {},
   "source": [
    "# Compare both record databases"
   ]
  },
  {
   "cell_type": "code",
   "execution_count": null,
   "id": "80b1eca7-06a7-4d61-b795-9fe6ffd34387",
   "metadata": {},
   "outputs": [],
   "source": [
    "sql_connection = sqlite3.connect(f'{DATABASE_00}.db')\n",
    "df_base_00 = pd.read_sql_query('SELECT * FROM Measurements INNER JOIN Fingerprints on Fingerprints.id = Measurements.fingerprint_id INNER JOIN Records on Records.date = Fingerprints.record_date', sql_connection)\n",
    "df_00 = prepare_dataframe(df_base_00)\n",
    "sql_connection.close()\n",
    "\n",
    "sql_connection = sqlite3.connect(f'{DATABASE_01}.db')\n",
    "df_base_01 = pd.read_sql_query('SELECT * FROM Measurements INNER JOIN Fingerprints on Fingerprints.id = Measurements.fingerprint_id INNER JOIN Records on Records.date = Fingerprints.record_date', sql_connection)\n",
    "df_01 = prepare_dataframe(df_base_01)\n"
   ]
  },
  {
   "cell_type": "code",
   "execution_count": null,
   "id": "d9ba653a-c663-40dd-83b7-c0509757db1c",
   "metadata": {},
   "outputs": [],
   "source": [
    "SAMPLE='sample_29'\n",
    "\n",
    "for g in GROUPS:\n",
    "    df_00_grouped = df_00.groupby(['component_name']).get_group(g).reset_index(drop=True)\n",
    "    df_01_grouped = df_01.groupby(['component_name']).get_group(g).reset_index(drop=True)\n",
    "    \n",
    "    ax = df_00_grouped.reset_index().plot.scatter(x='date_ts', y=SAMPLE,s=3, alpha=.2,c='tab:blue')\n",
    "    df_01_grouped.reset_index().plot.scatter(x='date_ts', y=SAMPLE,s=3, alpha=.2, ax=ax, c='tab:red')\n",
    "    \n",
    "    show_intervals(ax)\n",
    "    display_ts_as_date(ax)\n",
    "    plt.savefig(f\"databases_comparison_{SAMPLE}_{g}.png\", dpi=300, bbox_inches='tight', pad_inches=.02)\n",
    "    plt.title(f'{g} comparison of both records using sample {SAMPLE}')\n",
    "    plt.show()\n"
   ]
  },
  {
   "cell_type": "code",
   "execution_count": null,
   "id": "327178e4-c7a3-449b-bee7-0cd7f0249011",
   "metadata": {},
   "outputs": [],
   "source": [
    "SAMPLE='sample_00'\n",
    "\n",
    "for g in GROUPS:\n",
    "    df_00_grouped = df_00.groupby(['component_name']).get_group(g).reset_index(drop=True)\n",
    "    df_01_grouped = df_01.groupby(['component_name']).get_group(g).reset_index(drop=True)\n",
    "    \n",
    "    ax = df_00_grouped.reset_index().plot.scatter(x='date_ts', y=SAMPLE,s=3, alpha=.2,c='tab:blue')\n",
    "    df_01_grouped.reset_index().plot.scatter(x='date_ts', y=SAMPLE,s=3, alpha=.2, ax=ax, c='tab:red')\n",
    "    \n",
    "    show_intervals(ax)\n",
    "    display_ts_as_date(ax)\n",
    "    plt.savefig(f\"databases_comparison_{SAMPLE}_{g}.png\", dpi=300, bbox_inches='tight', pad_inches=.02)\n",
    "    plt.title(f'{g} comparison of both records using sample {SAMPLE}')\n",
    "    plt.show()"
   ]
  }
 ],
 "metadata": {
  "kernelspec": {
   "display_name": "Python 3 (ipykernel)",
   "language": "python",
   "name": "python3"
  },
  "language_info": {
   "codemirror_mode": {
    "name": "ipython",
    "version": 3
   },
   "file_extension": ".py",
   "mimetype": "text/x-python",
   "name": "python",
   "nbconvert_exporter": "python",
   "pygments_lexer": "ipython3",
   "version": "3.8.10"
  }
 },
 "nbformat": 4,
 "nbformat_minor": 5
}
